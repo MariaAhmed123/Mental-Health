{
 "cells": [
  {
   "cell_type": "code",
   "execution_count": 1,
   "id": "689b830b-14f2-4695-a531-bb02c8c637a3",
   "metadata": {},
   "outputs": [],
   "source": [
    "import pandas as pd\n",
    "\n"
   ]
  },
  {
   "cell_type": "code",
   "execution_count": 2,
   "id": "e14e3ec2-f4be-483d-9af4-d36fbed64a22",
   "metadata": {},
   "outputs": [
    {
     "name": "stderr",
     "output_type": "stream",
     "text": [
      "Repo card metadata block was not found. Setting CardData to empty.\n"
     ]
    },
    {
     "data": {
      "text/html": [
       "<div>\n",
       "<style scoped>\n",
       "    .dataframe tbody tr th:only-of-type {\n",
       "        vertical-align: middle;\n",
       "    }\n",
       "\n",
       "    .dataframe tbody tr th {\n",
       "        vertical-align: top;\n",
       "    }\n",
       "\n",
       "    .dataframe thead th {\n",
       "        text-align: right;\n",
       "    }\n",
       "</style>\n",
       "<table border=\"1\" class=\"dataframe\">\n",
       "  <thead>\n",
       "    <tr style=\"text-align: right;\">\n",
       "      <th></th>\n",
       "      <th>author</th>\n",
       "      <th>body</th>\n",
       "      <th>created_utc</th>\n",
       "      <th>id</th>\n",
       "      <th>num_comments</th>\n",
       "      <th>score</th>\n",
       "      <th>subreddit</th>\n",
       "      <th>title</th>\n",
       "      <th>upvote_ratio</th>\n",
       "      <th>url</th>\n",
       "    </tr>\n",
       "  </thead>\n",
       "  <tbody>\n",
       "    <tr>\n",
       "      <th>0</th>\n",
       "      <td>HotConversation1273</td>\n",
       "      <td>A few months ago I was accepted into this full...</td>\n",
       "      <td>2021-12-22T18:32:56.000Z</td>\n",
       "      <td>rmbjwb</td>\n",
       "      <td>1</td>\n",
       "      <td>1</td>\n",
       "      <td>ADHD</td>\n",
       "      <td>I get extremely anxious if I’m not working 24/7</td>\n",
       "      <td>1.0</td>\n",
       "      <td>https://www.reddit.com/r/ADHD/comments/rmbjwb/...</td>\n",
       "    </tr>\n",
       "    <tr>\n",
       "      <th>1</th>\n",
       "      <td>snorefestt</td>\n",
       "      <td>Hey guys, I was curious if anyone else has the...</td>\n",
       "      <td>2021-12-22T18:24:25.000Z</td>\n",
       "      <td>rmbd1y</td>\n",
       "      <td>3</td>\n",
       "      <td>5</td>\n",
       "      <td>ADHD</td>\n",
       "      <td>I can't will myself to clean my own house, but...</td>\n",
       "      <td>1.0</td>\n",
       "      <td>https://www.reddit.com/r/ADHD/comments/rmbd1y/...</td>\n",
       "    </tr>\n",
       "    <tr>\n",
       "      <th>2</th>\n",
       "      <td>etyf12</td>\n",
       "      <td>\\n\\ni have 6 exams in the next 2 weeks one of...</td>\n",
       "      <td>2021-12-22T18:22:52.000Z</td>\n",
       "      <td>rmbbvu</td>\n",
       "      <td>1</td>\n",
       "      <td>2</td>\n",
       "      <td>ADHD</td>\n",
       "      <td>i need some help</td>\n",
       "      <td>1.0</td>\n",
       "      <td>https://www.reddit.com/r/ADHD/comments/rmbbvu/...</td>\n",
       "    </tr>\n",
       "    <tr>\n",
       "      <th>3</th>\n",
       "      <td>GetHairOrDieTryin</td>\n",
       "      <td>Is there anyone out there that is struggling w...</td>\n",
       "      <td>2021-12-22T18:20:35.000Z</td>\n",
       "      <td>rmba1t</td>\n",
       "      <td>3</td>\n",
       "      <td>2</td>\n",
       "      <td>ADHD</td>\n",
       "      <td>Anyone up for a chat?</td>\n",
       "      <td>1.0</td>\n",
       "      <td>https://www.reddit.com/r/ADHD/comments/rmba1t/...</td>\n",
       "    </tr>\n",
       "    <tr>\n",
       "      <th>4</th>\n",
       "      <td>ZeroTransPat</td>\n",
       "      <td>Whenever I get hungry, I never eat because I d...</td>\n",
       "      <td>2021-12-22T18:18:47.000Z</td>\n",
       "      <td>rmb8lm</td>\n",
       "      <td>2</td>\n",
       "      <td>1</td>\n",
       "      <td>ADHD</td>\n",
       "      <td>Figuring out what to eat sucks</td>\n",
       "      <td>1.0</td>\n",
       "      <td>https://www.reddit.com/r/ADHD/comments/rmb8lm/...</td>\n",
       "    </tr>\n",
       "  </tbody>\n",
       "</table>\n",
       "</div>"
      ],
      "text/plain": [
       "                author                                               body  \\\n",
       "0  HotConversation1273  A few months ago I was accepted into this full...   \n",
       "1           snorefestt  Hey guys, I was curious if anyone else has the...   \n",
       "2               etyf12   \\n\\ni have 6 exams in the next 2 weeks one of...   \n",
       "3    GetHairOrDieTryin  Is there anyone out there that is struggling w...   \n",
       "4         ZeroTransPat  Whenever I get hungry, I never eat because I d...   \n",
       "\n",
       "                created_utc      id  num_comments  score subreddit  \\\n",
       "0  2021-12-22T18:32:56.000Z  rmbjwb             1      1      ADHD   \n",
       "1  2021-12-22T18:24:25.000Z  rmbd1y             3      5      ADHD   \n",
       "2  2021-12-22T18:22:52.000Z  rmbbvu             1      2      ADHD   \n",
       "3  2021-12-22T18:20:35.000Z  rmba1t             3      2      ADHD   \n",
       "4  2021-12-22T18:18:47.000Z  rmb8lm             2      1      ADHD   \n",
       "\n",
       "                                               title  upvote_ratio  \\\n",
       "0    I get extremely anxious if I’m not working 24/7           1.0   \n",
       "1  I can't will myself to clean my own house, but...           1.0   \n",
       "2                                   i need some help           1.0   \n",
       "3                              Anyone up for a chat?           1.0   \n",
       "4                     Figuring out what to eat sucks           1.0   \n",
       "\n",
       "                                                 url  \n",
       "0  https://www.reddit.com/r/ADHD/comments/rmbjwb/...  \n",
       "1  https://www.reddit.com/r/ADHD/comments/rmbd1y/...  \n",
       "2  https://www.reddit.com/r/ADHD/comments/rmbbvu/...  \n",
       "3  https://www.reddit.com/r/ADHD/comments/rmba1t/...  \n",
       "4  https://www.reddit.com/r/ADHD/comments/rmb8lm/...  "
      ]
     },
     "execution_count": 2,
     "metadata": {},
     "output_type": "execute_result"
    }
   ],
   "source": [
    "from datasets import load_dataset\n",
    "\n",
    "dataset = load_dataset(\"solomonk/reddit_mental_health_posts\")\n",
    "df = dataset['train'].to_pandas()\n",
    "df.head()"
   ]
  },
  {
   "cell_type": "code",
   "execution_count": 3,
   "id": "27f8213e-bafa-4342-bf79-507c1227fa24",
   "metadata": {},
   "outputs": [],
   "source": [
    "import nltk"
   ]
  },
  {
   "cell_type": "code",
   "execution_count": 4,
   "id": "ee244b31-be73-4b5a-a16d-60b61281bbae",
   "metadata": {},
   "outputs": [],
   "source": [
    "import re\n",
    "from nltk.corpus import stopwords\n",
    "from nltk.tokenize import word_tokenize\n",
    "from nltk.stem import WordNetLemmatizer"
   ]
  },
  {
   "cell_type": "code",
   "execution_count": 5,
   "id": "8559c071-ff8f-4c00-bd7b-86a3d6e616e2",
   "metadata": {},
   "outputs": [],
   "source": [
    "stop_words = set(stopwords.words('english'))\n",
    "lemmatizer = WordNetLemmatizer()\n"
   ]
  },
  {
   "cell_type": "code",
   "execution_count": 6,
   "id": "a293e622-c239-4f29-bf13-4d1e37569dcd",
   "metadata": {},
   "outputs": [],
   "source": [
    "def preprocess_text(text):\n",
    "    if not isinstance(text, str):\n",
    "        return \"\"  # or return text if you want to keep original\n",
    "\n",
    "    text = text.lower()\n",
    "    text = re.sub(r'http\\S+|www\\S+', '', text)\n",
    "    text = re.sub(r'<.*?>', '', text)\n",
    "    text = re.sub(r'[^a-zA-Z\\s]', '', text)\n",
    "\n",
    "    tokens = word_tokenize(text)\n",
    "    tokens = [lemmatizer.lemmatize(word) for word in tokens if word not in stop_words]\n",
    "    clean_text = ' '.join(tokens)\n",
    "\n",
    "    return clean_text\n"
   ]
  },
  {
   "cell_type": "code",
   "execution_count": 7,
   "id": "b6b3ec08-45e5-4a7a-a421-2d0e4cf3e082",
   "metadata": {},
   "outputs": [],
   "source": [
    "df[\"clean_text\"] = df[\"body\"].apply(preprocess_text)"
   ]
  },
  {
   "cell_type": "code",
   "execution_count": 8,
   "id": "4d6c90c5-598f-4105-8761-6276fbdaba41",
   "metadata": {},
   "outputs": [
    {
     "name": "stdout",
     "output_type": "stream",
     "text": [
      "['C:\\\\Users\\\\maria/nltk_data', 'C:\\\\Users\\\\maria\\\\anaconda3\\\\nltk_data', 'C:\\\\Users\\\\maria\\\\anaconda3\\\\share\\\\nltk_data', 'C:\\\\Users\\\\maria\\\\anaconda3\\\\lib\\\\nltk_data', 'C:\\\\Users\\\\maria\\\\AppData\\\\Roaming\\\\nltk_data', 'C:\\\\nltk_data', 'D:\\\\nltk_data', 'E:\\\\nltk_data']\n"
     ]
    }
   ],
   "source": [
    "import nltk\n",
    "print(nltk.data.path) "
   ]
  },
  {
   "cell_type": "code",
   "execution_count": 9,
   "id": "7e3e56fe-d567-4c27-be5e-44a2c4a8c8a4",
   "metadata": {},
   "outputs": [
    {
     "data": {
      "text/html": [
       "<div>\n",
       "<style scoped>\n",
       "    .dataframe tbody tr th:only-of-type {\n",
       "        vertical-align: middle;\n",
       "    }\n",
       "\n",
       "    .dataframe tbody tr th {\n",
       "        vertical-align: top;\n",
       "    }\n",
       "\n",
       "    .dataframe thead th {\n",
       "        text-align: right;\n",
       "    }\n",
       "</style>\n",
       "<table border=\"1\" class=\"dataframe\">\n",
       "  <thead>\n",
       "    <tr style=\"text-align: right;\">\n",
       "      <th></th>\n",
       "      <th>body</th>\n",
       "      <th>clean_text</th>\n",
       "    </tr>\n",
       "  </thead>\n",
       "  <tbody>\n",
       "    <tr>\n",
       "      <th>107138</th>\n",
       "      <td>[deleted]</td>\n",
       "      <td>deleted</td>\n",
       "    </tr>\n",
       "    <tr>\n",
       "      <th>131939</th>\n",
       "      <td>[removed]</td>\n",
       "      <td>removed</td>\n",
       "    </tr>\n",
       "    <tr>\n",
       "      <th>149951</th>\n",
       "      <td>[deleted]</td>\n",
       "      <td>deleted</td>\n",
       "    </tr>\n",
       "    <tr>\n",
       "      <th>45260</th>\n",
       "      <td>[deleted]</td>\n",
       "      <td>deleted</td>\n",
       "    </tr>\n",
       "    <tr>\n",
       "      <th>126519</th>\n",
       "      <td>At this point, I’m struggling for the will to ...</td>\n",
       "      <td>point im struggling live feel ill worrying tho...</td>\n",
       "    </tr>\n",
       "  </tbody>\n",
       "</table>\n",
       "</div>"
      ],
      "text/plain": [
       "                                                     body  \\\n",
       "107138                                          [deleted]   \n",
       "131939                                          [removed]   \n",
       "149951                                          [deleted]   \n",
       "45260                                           [deleted]   \n",
       "126519  At this point, I’m struggling for the will to ...   \n",
       "\n",
       "                                               clean_text  \n",
       "107138                                            deleted  \n",
       "131939                                            removed  \n",
       "149951                                            deleted  \n",
       "45260                                             deleted  \n",
       "126519  point im struggling live feel ill worrying tho...  "
      ]
     },
     "execution_count": 9,
     "metadata": {},
     "output_type": "execute_result"
    }
   ],
   "source": [
    "df[[\"body\", \"clean_text\"]].sample(5)"
   ]
  },
  {
   "cell_type": "code",
   "execution_count": 10,
   "id": "3e693a35-6404-4cd2-a021-44dc4b7f2bbc",
   "metadata": {},
   "outputs": [],
   "source": [
    "df = df[~df[\"clean_text\"].isin([\"deleted\", \"removed\"])]"
   ]
  },
  {
   "cell_type": "code",
   "execution_count": 11,
   "id": "414a4137-7c0a-462c-baed-99329164674e",
   "metadata": {},
   "outputs": [],
   "source": [
    "df = df[df[\"clean_text\"].str.split().str.len() > 3]"
   ]
  },
  {
   "cell_type": "code",
   "execution_count": 12,
   "id": "cd50264c-8a15-434e-b85c-b8290b3668c0",
   "metadata": {},
   "outputs": [
    {
     "data": {
      "text/plain": [
       "subreddit\n",
       "OCD           24859\n",
       "ADHD          20398\n",
       "depression    13630\n",
       "ptsd          13516\n",
       "aspergers     13223\n",
       "Name: count, dtype: int64"
      ]
     },
     "execution_count": 12,
     "metadata": {},
     "output_type": "execute_result"
    }
   ],
   "source": [
    "df[\"subreddit\"].value_counts()"
   ]
  },
  {
   "cell_type": "code",
   "execution_count": 13,
   "id": "3e94f2b0-e3a3-4fe1-acf9-c1a472816a1a",
   "metadata": {},
   "outputs": [
    {
     "data": {
      "text/html": [
       "<div>\n",
       "<style scoped>\n",
       "    .dataframe tbody tr th:only-of-type {\n",
       "        vertical-align: middle;\n",
       "    }\n",
       "\n",
       "    .dataframe tbody tr th {\n",
       "        vertical-align: top;\n",
       "    }\n",
       "\n",
       "    .dataframe thead th {\n",
       "        text-align: right;\n",
       "    }\n",
       "</style>\n",
       "<table border=\"1\" class=\"dataframe\">\n",
       "  <thead>\n",
       "    <tr style=\"text-align: right;\">\n",
       "      <th></th>\n",
       "      <th>body</th>\n",
       "      <th>clean_text</th>\n",
       "    </tr>\n",
       "  </thead>\n",
       "  <tbody>\n",
       "    <tr>\n",
       "      <th>63330</th>\n",
       "      <td>I usually don't talk but tonight I need to. I ...</td>\n",
       "      <td>usually dont talk tonight need started selfhar...</td>\n",
       "    </tr>\n",
       "    <tr>\n",
       "      <th>98557</th>\n",
       "      <td>Please don't comment compulsions!\\n\\nFor me it...</td>\n",
       "      <td>please dont comment compulsion ambiance noise ...</td>\n",
       "    </tr>\n",
       "    <tr>\n",
       "      <th>131906</th>\n",
       "      <td>Since I was a teenager, whenever I would get r...</td>\n",
       "      <td>since teenager whenever would get really stres...</td>\n",
       "    </tr>\n",
       "    <tr>\n",
       "      <th>117436</th>\n",
       "      <td>So basically IV been in therapy since I was 16...</td>\n",
       "      <td>basically iv therapy since started relationshi...</td>\n",
       "    </tr>\n",
       "    <tr>\n",
       "      <th>65081</th>\n",
       "      <td>I’ve been struggling with undiagnosed depressi...</td>\n",
       "      <td>ive struggling undiagnosed depression possibly...</td>\n",
       "    </tr>\n",
       "  </tbody>\n",
       "</table>\n",
       "</div>"
      ],
      "text/plain": [
       "                                                     body  \\\n",
       "63330   I usually don't talk but tonight I need to. I ...   \n",
       "98557   Please don't comment compulsions!\\n\\nFor me it...   \n",
       "131906  Since I was a teenager, whenever I would get r...   \n",
       "117436  So basically IV been in therapy since I was 16...   \n",
       "65081   I’ve been struggling with undiagnosed depressi...   \n",
       "\n",
       "                                               clean_text  \n",
       "63330   usually dont talk tonight need started selfhar...  \n",
       "98557   please dont comment compulsion ambiance noise ...  \n",
       "131906  since teenager whenever would get really stres...  \n",
       "117436  basically iv therapy since started relationshi...  \n",
       "65081   ive struggling undiagnosed depression possibly...  "
      ]
     },
     "execution_count": 13,
     "metadata": {},
     "output_type": "execute_result"
    }
   ],
   "source": [
    "df[[\"body\", \"clean_text\"]].sample(5)"
   ]
  },
  {
   "cell_type": "code",
   "execution_count": 14,
   "id": "1bce2dc9-0cdb-4b89-b1b2-1eb5154ddf05",
   "metadata": {},
   "outputs": [],
   "source": [
    "from sklearn.preprocessing import LabelEncoder\n",
    "\n",
    "le = LabelEncoder()\n",
    "df[\"label\"] = le.fit_transform(df[\"subreddit\"])"
   ]
  },
  {
   "cell_type": "code",
   "execution_count": 15,
   "id": "ac97b77c-1bc8-401c-a686-a63f3a16c1fa",
   "metadata": {},
   "outputs": [
    {
     "data": {
      "text/plain": [
       "{'ADHD': 0, 'OCD': 1, 'aspergers': 2, 'depression': 3, 'ptsd': 4}"
      ]
     },
     "execution_count": 15,
     "metadata": {},
     "output_type": "execute_result"
    }
   ],
   "source": [
    "dict(zip(le.classes_, le.transform(le.classes_)))"
   ]
  },
  {
   "cell_type": "code",
   "execution_count": 16,
   "id": "7e55c2da-680a-4c2c-8fae-9713960d8c15",
   "metadata": {},
   "outputs": [],
   "source": [
    "from sklearn.feature_extraction.text import TfidfVectorizer\n",
    "\n",
    "\n",
    "tfidf = TfidfVectorizer(max_features=5000)  # You can change max_features as needed\n",
    "\n",
    "X = tfidf.fit_transform(df[\"clean_text\"])\n",
    "\n",
    "y = df[\"label\"]"
   ]
  },
  {
   "cell_type": "code",
   "execution_count": 17,
   "id": "a7cbbc7e-01d5-44ad-aa70-db9d4d48b067",
   "metadata": {},
   "outputs": [
    {
     "name": "stdout",
     "output_type": "stream",
     "text": [
      "(85626, 5000)\n",
      "(85626,)\n"
     ]
    }
   ],
   "source": [
    "print(X.shape)   # Should be something like (num_samples, 5000)\n",
    "print(y.shape)"
   ]
  },
  {
   "cell_type": "code",
   "execution_count": 18,
   "id": "145ff73b-332a-4209-8733-57618cc0c5cf",
   "metadata": {},
   "outputs": [
    {
     "name": "stdout",
     "output_type": "stream",
     "text": [
      "['aaron' 'ab' 'abandon' 'abandoned' 'abandonment' 'abilify' 'ability'\n",
      " 'able' 'abnormal' 'abortion' 'abroad' 'abruptly' 'absence' 'absent'\n",
      " 'absolute' 'absolutely' 'abstract' 'absurd' 'abt' 'abuse' 'abused'\n",
      " 'abuser' 'abusing' 'abusive' 'academic' 'academically' 'accent' 'accept'\n",
      " 'acceptable' 'acceptance' 'accepted' 'accepting' 'access' 'accident'\n",
      " 'accidentally' 'accommodate' 'accommodation' 'accomplish' 'accomplished'\n",
      " 'accomplishment' 'according' 'account' 'accountability' 'accountable'\n",
      " 'accurate' 'accurately' 'accused' 'ache' 'achieve' 'achieved']\n"
     ]
    }
   ],
   "source": [
    "print(tfidf.get_feature_names_out()[:50]) "
   ]
  },
  {
   "cell_type": "code",
   "execution_count": 19,
   "id": "71f256c2-1874-4b3b-9701-49e0a040d4bc",
   "metadata": {},
   "outputs": [
    {
     "name": "stdout",
     "output_type": "stream",
     "text": [
      "Train shape: (68500, 5000) (68500,)\n",
      "Test  shape: (17126, 5000) (17126,)\n"
     ]
    }
   ],
   "source": [
    "from sklearn.model_selection import train_test_split\n",
    "\n",
    "# 80% training, 20% testing – stratify keeps class proportions\n",
    "X_train, X_test, y_train, y_test = train_test_split(\n",
    "    X,                 # your TF-IDF matrix\n",
    "    y,                 # encoded labels\n",
    "    test_size=0.20,    # 20 % for testing\n",
    "    random_state=42,   # reproducible split\n",
    "    stratify=y         # maintain class balance\n",
    ")\n",
    "\n",
    "print(\"Train shape:\", X_train.shape, y_train.shape)\n",
    "print(\"Test  shape:\", X_test.shape, y_test.shape)"
   ]
  },
  {
   "cell_type": "code",
   "execution_count": 20,
   "id": "ebc43cf5-9a09-43f7-bc8e-2ac3e64b6111",
   "metadata": {},
   "outputs": [
    {
     "name": "stdout",
     "output_type": "stream",
     "text": [
      "Accuracy: 0.8396006072638094\n",
      "              precision    recall  f1-score   support\n",
      "\n",
      "        ADHD       0.87      0.88      0.88      4080\n",
      "         OCD       0.89      0.89      0.89      4972\n",
      "   aspergers       0.78      0.77      0.77      2645\n",
      "  depression       0.75      0.81      0.78      2726\n",
      "        ptsd       0.86      0.79      0.83      2703\n",
      "\n",
      "    accuracy                           0.84     17126\n",
      "   macro avg       0.83      0.83      0.83     17126\n",
      "weighted avg       0.84      0.84      0.84     17126\n",
      "\n"
     ]
    }
   ],
   "source": [
    "from sklearn.linear_model import LogisticRegression\n",
    "from sklearn.metrics import classification_report, accuracy_score\n",
    "\n",
    "# Create and train the model\n",
    "model = LogisticRegression(max_iter=1000)\n",
    "model.fit(X_train, y_train)\n",
    "\n",
    "# Predict on test set\n",
    "y_pred = model.predict(X_test)\n",
    "\n",
    "# Evaluate performance\n",
    "print(\"Accuracy:\", accuracy_score(y_test, y_pred))\n",
    "print(classification_report(y_test, y_pred, target_names=le.classes_))"
   ]
  },
  {
   "cell_type": "code",
   "execution_count": 21,
   "id": "1841dde6-0d32-46ff-b665-ef46b787a535",
   "metadata": {},
   "outputs": [
    {
     "name": "stdout",
     "output_type": "stream",
     "text": [
      "Multinomial NB accuracy: 0.771108256452178\n",
      "              precision    recall  f1-score   support\n",
      "\n",
      "        ADHD       0.75      0.83      0.79      4080\n",
      "         OCD       0.77      0.89      0.83      4972\n",
      "   aspergers       0.77      0.62      0.69      2645\n",
      "  depression       0.73      0.71      0.72      2726\n",
      "        ptsd       0.85      0.68      0.76      2703\n",
      "\n",
      "    accuracy                           0.77     17126\n",
      "   macro avg       0.78      0.75      0.76     17126\n",
      "weighted avg       0.77      0.77      0.77     17126\n",
      "\n"
     ]
    }
   ],
   "source": [
    "from sklearn.naive_bayes import MultinomialNB\n",
    "from sklearn.metrics import accuracy_score, classification_report\n",
    "\n",
    "nb_model = MultinomialNB(alpha=1.0)        # Laplace smoothing; tweak alpha if you like\n",
    "nb_model.fit(X_train, y_train)\n",
    "\n",
    "y_pred_nb = nb_model.predict(X_test)\n",
    "\n",
    "print(\"Multinomial NB accuracy:\", accuracy_score(y_test, y_pred_nb))\n",
    "print(classification_report(y_test, y_pred_nb, target_names=le.classes_))"
   ]
  },
  {
   "cell_type": "code",
   "execution_count": 22,
   "id": "073a7806-b049-4371-baac-5bda3876619c",
   "metadata": {},
   "outputs": [
    {
     "name": "stdout",
     "output_type": "stream",
     "text": [
      "Linear SVM accuracy: 0.8327688894079178\n",
      "              precision    recall  f1-score   support\n",
      "\n",
      "        ADHD       0.88      0.86      0.87      4080\n",
      "         OCD       0.92      0.86      0.89      4972\n",
      "   aspergers       0.75      0.77      0.76      2645\n",
      "  depression       0.72      0.82      0.77      2726\n",
      "        ptsd       0.83      0.81      0.82      2703\n",
      "\n",
      "    accuracy                           0.83     17126\n",
      "   macro avg       0.82      0.82      0.82     17126\n",
      "weighted avg       0.84      0.83      0.83     17126\n",
      "\n"
     ]
    }
   ],
   "source": [
    "from sklearn.svm import LinearSVC\n",
    "\n",
    "svm_model = LinearSVC(C=1.0, class_weight=\"balanced\")   # “balanced” combats any residual skew\n",
    "svm_model.fit(X_train, y_train)\n",
    "\n",
    "y_pred_svm = svm_model.predict(X_test)\n",
    "\n",
    "print(\"Linear SVM accuracy:\", accuracy_score(y_test, y_pred_svm))\n",
    "print(classification_report(y_test, y_pred_svm, target_names=le.classes_))"
   ]
  },
  {
   "cell_type": "code",
   "execution_count": null,
   "id": "dd65f1a7-3155-483d-8767-24bdbd2d037a",
   "metadata": {},
   "outputs": [],
   "source": []
  }
 ],
 "metadata": {
  "kernelspec": {
   "display_name": "Python 3 (ipykernel)",
   "language": "python",
   "name": "python3"
  },
  "language_info": {
   "codemirror_mode": {
    "name": "ipython",
    "version": 3
   },
   "file_extension": ".py",
   "mimetype": "text/x-python",
   "name": "python",
   "nbconvert_exporter": "python",
   "pygments_lexer": "ipython3",
   "version": "3.12.7"
  }
 },
 "nbformat": 4,
 "nbformat_minor": 5
}
